{
 "cells": [
  {
   "cell_type": "code",
   "execution_count": 2,
   "metadata": {},
   "outputs": [],
   "source": [
    "import pandas as pd\n",
    "import numpy as np\n",
    "import matplotlib.pyplot as plt"
   ]
  },
  {
   "cell_type": "code",
   "execution_count": 3,
   "metadata": {},
   "outputs": [],
   "source": [
    "x = [0.9, 0.92, 0.94, 0.95, 0.96, 0.98, 1., 1.02, 1.04, 1.05, 1.06, 1.08, 1.1]\n",
    "y = []"
   ]
  },
  {
   "cell_type": "code",
   "execution_count": 4,
   "metadata": {},
   "outputs": [],
   "source": [
    "data090 = pd.read_table(\"./out/out090.out\", delimiter = '\\t', names = ['tau', 'N', 'x', 'eta'])\n",
    "data092 = pd.read_table(\"./out/out092.out\", delimiter = '\\t', names = ['tau', 'N', 'x', 'eta'])\n",
    "data094 = pd.read_table(\"./out/out094.out\", delimiter = '\\t', names = ['tau', 'N', 'x', 'eta'])\n",
    "data095 = pd.read_table(\"./out/out095.out\", delimiter = '\\t', names = ['tau', 'N', 'x', 'eta'])\n",
    "data096 = pd.read_table(\"./out/out096.out\", delimiter = '\\t', names = ['tau', 'N', 'x', 'eta'])\n",
    "data098 = pd.read_table(\"./out/out098.out\", delimiter = '\\t', names = ['tau', 'N', 'x', 'eta'])\n",
    "data100 = pd.read_table(\"./out/out100.out\", delimiter = '\\t', names = ['tau', 'N', 'x', 'eta'])\n",
    "data102 = pd.read_table(\"./out/out102.out\", delimiter = '\\t', names = ['tau', 'N', 'x', 'eta'])\n",
    "data104 = pd.read_table(\"./out/out104.out\", delimiter = '\\t', names = ['tau', 'N', 'x', 'eta'])\n",
    "data105 = pd.read_table(\"./out/out105.out\", delimiter = '\\t', names = ['tau', 'N', 'x', 'eta'])\n",
    "data106 = pd.read_table(\"./out/out106.out\", delimiter = '\\t', names = ['tau', 'N', 'x', 'eta'])\n",
    "data108 = pd.read_table(\"./out/out108.out\", delimiter = '\\t', names = ['tau', 'N', 'x', 'eta'])\n",
    "data110 = pd.read_table(\"./out/out110.out\", delimiter = '\\t', names = ['tau', 'N', 'x', 'eta'])"
   ]
  },
  {
   "cell_type": "code",
   "execution_count": 5,
   "metadata": {},
   "outputs": [],
   "source": [
    "y.append(data090['eta'].max())\n",
    "y.append(data092['eta'].max())\n",
    "y.append(data094['eta'].max())\n",
    "y.append(data095['eta'].max())\n",
    "y.append(data096['eta'].max())\n",
    "y.append(data098['eta'].max())\n",
    "y.append(data100['eta'].max())\n",
    "y.append(data102['eta'].max())\n",
    "y.append(data104['eta'].max())\n",
    "y.append(data105['eta'].max())\n",
    "y.append(data106['eta'].max())\n",
    "y.append(data108['eta'].max())\n",
    "y.append(data110['eta'].max())"
   ]
  },
  {
   "cell_type": "code",
   "execution_count": 6,
   "metadata": {},
   "outputs": [
    {
     "data": {
      "text/plain": [
       "[5.13036,\n",
       " 5.2455,\n",
       " 5.49167,\n",
       " 5.733569999999999,\n",
       " 6.16255,\n",
       " 8.98522,\n",
       " 19.7318,\n",
       " 8.96186,\n",
       " 6.26208,\n",
       " 5.8304,\n",
       " 5.5808800000000005,\n",
       " 5.31917,\n",
       " 5.192]"
      ]
     },
     "execution_count": 6,
     "metadata": {},
     "output_type": "execute_result"
    }
   ],
   "source": [
    "y"
   ]
  },
  {
   "cell_type": "code",
   "execution_count": 7,
   "metadata": {},
   "outputs": [
    {
     "data": {
      "text/plain": [
       "<matplotlib.collections.PathCollection at 0x7f82fb328220>"
      ]
     },
     "execution_count": 7,
     "metadata": {},
     "output_type": "execute_result"
    },
    {
     "data": {
      "image/png": "[encoded data removed]",
      "text/plain": [
       "<Figure size 432x288 with 1 Axes>"
      ]
     },
     "metadata": {
      "needs_background": "light"
     },
     "output_type": "display_data"
    }
   ],
   "source": [
    "plt.scatter(x, y)"
   ]
  },
  {
   "cell_type": "code",
   "execution_count": 31,
   "metadata": {},
   "outputs": [],
   "source": [
    "from scipy.optimize import curve_fit"
   ]
  },
  {
   "cell_type": "code",
   "execution_count": 51,
   "metadata": {},
   "outputs": [],
   "source": [
    "def lorentzian(x, gamma, x0):\n",
    "    return 1/3.14159 * (0.5 * gamma / ((x - x0)**2 + (0.5 * gamma) ** 2))"
   ]
  },
  {
   "cell_type": "code",
   "execution_count": 33,
   "metadata": {},
   "outputs": [],
   "source": [
    "def lorentzian(x, gamma, x0, c1, c2):\n",
    "    return c1 + 2*c2/3.14159 * ( gamma / (4 * (x - x0)**2 + (gamma)))"
   ]
  },
  {
   "cell_type": "code",
   "execution_count": 52,
   "metadata": {},
   "outputs": [],
   "source": [
    "\n",
    "def fit_lorentzian(x_data, y_data):\n",
    "    #estimate parameters\n",
    "    gamma = 0.1\n",
    "    x0 = 1\n",
    "    c1 = 19\n",
    "    c2 = 10\n",
    "    \n",
    "    #fit function\n",
    "    parameters, covariance = curve_fit(lorentzian, x_data, y_data, p0 = [gamma, x0])\n",
    "    fit_y = lorentzian(x_data, parameters[0], parameters[1])\n",
    "    return fit_y, parameters, covariance"
   ]
  },
  {
   "cell_type": "code",
   "execution_count": 53,
   "metadata": {},
   "outputs": [],
   "source": [
    "fit_y, param, cov= fit_lorentzian(x, y)"
   ]
  },
  {
   "cell_type": "code",
   "execution_count": 54,
   "metadata": {},
   "outputs": [],
   "source": [
    "x_from_fit = np.linspace(0.9, 1.1, 100)\n",
    "y_from_fit = lorentzian(x_from_fit, param[0], param[1])"
   ]
  },
  {
   "cell_type": "code",
   "execution_count": 55,
   "metadata": {},
   "outputs": [
    {
     "data": {
      "image/png": "[encoded data removed]",
      "text/plain": [
       "<Figure size 576x432 with 1 Axes>"
      ]
     },
     "metadata": {
      "needs_background": "light"
     },
     "output_type": "display_data"
    }
   ],
   "source": [
    "plt.rcParams[\"figure.figsize\"] = (8,6)\n",
    "plt.plot(x_from_fit, y_from_fit, label = \"krzywa dopasowania\")\n",
    "plt.scatter(x, y, label=\"punkty z symulacji\")\n",
    "plt.legend()\n",
    "plt.xlabel(\"Częstotliwość względna w / w_rez\")\n",
    "plt.ylabel(\"Energia\")\n",
    "plt.savefig(\"dopasowanie_dobre.png\")"
   ]
  },
  {
   "cell_type": "code",
   "execution_count": 56,
   "metadata": {},
   "outputs": [
    {
     "data": {
      "text/plain": [
       "array([0.03752132, 1.00003111])"
      ]
     },
     "execution_count": 56,
     "metadata": {},
     "output_type": "execute_result"
    }
   ],
   "source": [
    "param"
   ]
  },
  {
   "cell_type": "code",
   "execution_count": null,
   "metadata": {},
   "outputs": [],
   "source": []
  }
 ],
 "metadata": {
  "kernelspec": {
   "display_name": "Python 3",
   "language": "python",
   "name": "python3"
  },
  "language_info": {
   "codemirror_mode": {
    "name": "ipython",
    "version": 3
   },
   "file_extension": ".py",
   "mimetype": "text/x-python",
   "name": "python",
   "nbconvert_exporter": "python",
   "pygments_lexer": "ipython3",
   "version": "3.8.5"
  }
 },
 "nbformat": 4,
 "nbformat_minor": 4
}
